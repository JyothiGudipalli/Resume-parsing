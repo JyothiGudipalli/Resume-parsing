{
  "nbformat": 4,
  "nbformat_minor": 0,
  "metadata": {
    "colab": {
      "provenance": []
    },
    "kernelspec": {
      "name": "python3",
      "display_name": "Python 3"
    },
    "language_info": {
      "name": "python"
    }
  },
  "cells": [
    {
      "cell_type": "code",
      "source": [
        "import spacy\n",
        "from spacy.matcher import PhraseMatcher\n",
        "\n",
        "nlp = spacy.load(\"en_core_web_sm\")\n",
        "matcher = PhraseMatcher(nlp.vocab)\n",
        "\n",
        "TECHNICALSKILLS =[\"Python\",\"C/C++\",\"Xilinx Vivado\"]\n",
        "\n",
        "projects=[\"Smart watch to monitor health \",\"Smart watch to monitor health \",\"Implementation of digital clock\",\"Liver segmentation using unet\"]\n",
        "# Only run nlp.make_doc to speed things up\n",
        "patterns = [nlp.make_doc(text) for text in\n",
        "TECHNICALSKILLS]\n",
        "pattern1=[nlp.make_doc(text) for text in projects]\n",
        "matcher.add(\"Programming\", patterns)\n",
        "matcher.add(\"projects\",pattern1)\n",
        "text=\"\"\"CAREER OBJECTIVES\n",
        "• To be associated with an organization which provides challenging work environment and proving my excellence at every step is my long term career goal.\n",
        "• Highly efficient, and passionate for learning new concepts,ideas and techniques.\n",
        "• Reach the heights in my career with proven expertise.\n",
        "EDUCATION\n",
        "Degree Institute Board/University CGPA/percentage Year of passing\n",
        "B.Tech ECE Rajiv Gandhi University of knowledge\n",
        "Technologies-Nuzvid\n",
        "RGUKT-NUZVID 9.24 2024\n",
        "PUC-12th Rajiv Gandhi University of knowledge\n",
        "Technologies-Nuzvid\n",
        "RGUKT-NUZVID 9.21 2020\n",
        "SSC Government High school Board of secondary\n",
        "Education\n",
        "10.0 2018\n",
        "PERSONAL SKILLS\n",
        "• Problem solving abilities.\n",
        "• Willing to learn ,team facilitator and hard worker\n",
        "• Good communication skills.\n",
        "• Disciplined and punctual.\n",
        "• Always be infront of exploring the learnt skills.\n",
        "PROJECTS\n",
        "➪ Smart watch to monitor health\n",
        "➪ Implementation of digital clock\n",
        "➪Liver segmentation using unet\n",
        "TECHNICAL SKILLS\n",
        "➪C/C++\n",
        "➪Python\n",
        "➪Xilinx Vivado\n",
        "KEY COURSE TAKEN\n",
        "• ECE: Html & CSS, Python Programming, Signals and Systems, Electrical Technology: Theory & Lab, Programming and Data Structures(C language), Object\n",
        "Oriented Programming(C++), Electronic Devices and Circuits: Theory & Lab, Network Theory, Internet of Things(IoT), Analog Electronic Circuits: Theory & Lab,\n",
        "Digital Logic Design: Theory & Lab, Digital Signal Processing, Control Systems, Communication Systems, Digital System Design: Theory & Lab, Verilog\n",
        "programming, Linear Integrated Circuits: Theory &Lab, Computer Organization & Architecture, Microprocessor and Microcontrollers: Theory & Applications •\n",
        "Others: Differential Equations and Multivariable Calculus, Engineering Physics, Engineering Drawing, Probability and Random Variables, Electro Magnetic Waves\n",
        "and Guided Media, Computer Networks, Radio Frequency and Microwave Lab\n",
        "PERSONAL INFORMATION\n",
        "• Nationality :Indian\n",
        "• Date of Birth :23-05-2002\n",
        "• Marital Status : Unmarried\n",
        "• Religion : Hindu\n",
        "• Gender : Female\n",
        "DECLARATION\n",
        " I solemnly declare that all the information furnished in this document is free of errors to the best of my\n",
        "knowledge..\n",
        "\n",
        "Place: Signature:\n",
        "Nuzvid G.Jyoth\"\"\"\n",
        "\n",
        "doc = nlp(text)\n",
        "matches = matcher(doc)\n",
        "for match_id, start, end in matches:\n",
        "    span = doc[start:end]\n",
        "    print(span.text)\n"
      ],
      "metadata": {
        "colab": {
          "base_uri": "https://localhost:8080/"
        },
        "id": "WYaFgqdkBPSz",
        "outputId": "ae9df13d-d1bb-41a1-beae-e661e20d0e5b"
      },
      "execution_count": 6,
      "outputs": [
        {
          "output_type": "stream",
          "name": "stdout",
          "text": [
            "Smart watch to monitor health\n",
            "Implementation of digital clock\n",
            "Liver segmentation using unet\n",
            "C/C++\n",
            "Python\n",
            "Xilinx Vivado\n",
            "Python\n"
          ]
        }
      ]
    }
  ]
}